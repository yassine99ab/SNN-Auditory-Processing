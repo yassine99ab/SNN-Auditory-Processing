{
 "cells": [
  {
   "cell_type": "code",
   "execution_count": null,
   "id": "62a83afe-ef5d-44b4-bdf4-e3e2d5f1e3ac",
   "metadata": {},
   "outputs": [],
   "source": [
    "import h5py\n",
    "import numpy as np\n",
    "import torch\n",
    "from torch.utils.data import Dataset, DataLoader, random_split\n",
    "import snntorch as snn\n",
    "from snntorch import spikeplot as splt\n",
    "import matplotlib.pyplot as plt\n",
    "import torch.nn as nn\n",
    "import torch.optim as optim\n",
    "from snntorch import surrogate\n",
    "from torch.utils.data import DataLoader\n",
    "import numpy as np\n",
    "from tqdm import tqdm\n",
    "from sklearn.metrics import classification_report, confusion_matrix\n",
    "import seaborn as sns\n",
    "import matplotlib.pyplot as plt\n",
    "from torch.optim.lr_scheduler import ReduceLROnPlateau\n",
    "import torch.nn.functional as F"
   ]
  },
  {
   "cell_type": "code",
   "execution_count": 1,
   "id": "ba202859-2136-49d7-a26e-1d89065d8136",
   "metadata": {},
   "outputs": [
    {
     "name": "stdout",
     "output_type": "stream",
     "text": [
      "PyTorch Version:  2.3.0+cu121\n",
      "Using GPU.\n"
     ]
    }
   ],
   "source": [
    "SEED = 134\n",
    "device = torch.device(\"cuda\" if torch.cuda.is_available() else \"cpu\")\n",
    "torch.manual_seed(SEED)\n",
    "torch.backends.cudnn.deterministic = True\n",
    "\n",
    "print(\"PyTorch Version: \", torch.__version__)\n",
    "print(f\"Using {'GPU' if str(device) == 'cuda' else 'CPU'}.\")\n",
    "\n",
    "# Check for MPS (Apple Silicon GPU) availability\n",
    "#if torch.backends.mps.is_available():\n",
    "#    device = torch.device(\"mps\")\n",
    "#    print(\"Using MPS (Apple Silicon GPU)\")\n",
    "#else:\n",
    "#    device = torch.device(\"cpu\")\n",
    "#    print(\"MPS not available, using CPU\")\n",
    "    \n",
    "class SHDDataset(Dataset):\n",
    "    def __init__(self, file_path, nb_steps=100):\n",
    "        self.nb_steps = nb_steps\n",
    "        self.nb_units = 700\n",
    "        self.max_time = 1.4  # seconds\n",
    "        \n",
    "        # Load data from h5 file\n",
    "        with h5py.File(file_path, 'r') as h5file:\n",
    "            self.spike_times = h5file['spikes']['times'][()]\n",
    "            self.spike_units = h5file['spikes']['units'][()]\n",
    "            self.labels = h5file['labels'][()]\n",
    "        \n",
    "        # Create time bins\n",
    "        self.time_bins = np.linspace(0, self.max_time, num=self.nb_steps)\n",
    "\n",
    "    def __len__(self):\n",
    "        return len(self.labels)\n",
    "\n",
    "    def __getitem__(self, index):\n",
    "        times = self.spike_times[index]\n",
    "        units = self.spike_units[index]\n",
    "        \n",
    "        # Discretize spike times\n",
    "        time_indices = np.digitize(times, self.time_bins) - 1\n",
    "        \n",
    "        # Create sparse tensor\n",
    "        indices = torch.LongTensor(np.array([time_indices, units]))\n",
    "        values = torch.FloatTensor(np.ones_like(times))\n",
    "        spike_tensor = torch.sparse_coo_tensor(indices, values, size=(self.nb_steps, self.nb_units))\n",
    "        \n",
    "        return spike_tensor.to_dense(), self.labels[index]\n",
    "\n",
    "def collate_fn(batch):\n",
    "    # Pad sequences to the same length\n",
    "    spikes, labels = zip(*batch)\n",
    "    padded_spikes = torch.nn.utils.rnn.pad_sequence(spikes, batch_first=True)\n",
    "    lengths = torch.LongTensor([spike.shape[0] for spike in spikes])\n",
    "    labels = torch.LongTensor(labels)\n",
    "    return padded_spikes, lengths, labels\n",
    "\n",
    "def load_shd_data(train_path, test_path, batch_size=32, val_ratio=0.2):\n",
    "    # Load datasets\n",
    "    train_dataset = SHDDataset(train_path)\n",
    "    full_test_dataset = SHDDataset(test_path)\n",
    "    \n",
    "    # Split test set into validation and test\n",
    "    val_size = int(len(full_test_dataset) * val_ratio)\n",
    "    test_size = len(full_test_dataset) - val_size\n",
    "    val_dataset, test_dataset = random_split(full_test_dataset, [val_size, test_size], \n",
    "                                             generator=torch.Generator().manual_seed(42))\n",
    "\n",
    "    # Create data loaders\n",
    "    train_loader = DataLoader(train_dataset, batch_size=batch_size, shuffle=True, collate_fn=collate_fn)\n",
    "    val_loader = DataLoader(val_dataset, batch_size=batch_size, shuffle=False, collate_fn=collate_fn)\n",
    "    test_loader = DataLoader(test_dataset, batch_size=batch_size, shuffle=False, collate_fn=collate_fn)\n",
    "    \n",
    "    return train_loader, val_loader, test_loader"
   ]
  },
  {
   "cell_type": "code",
   "execution_count": 2,
   "id": "c12620e8-cfc7-4d86-9df2-00ea12158f5b",
   "metadata": {},
   "outputs": [],
   "source": [
    "\n",
    "\n",
    "def visualize_sample(dataset, index=0):\n",
    "    # Get a single sample\n",
    "    spike_tensor, label = dataset[index]\n",
    "    \n",
    "    # Convert to numpy array if it's not already\n",
    "    if isinstance(spike_tensor, torch.Tensor):\n",
    "        spike_array = spike_tensor.numpy()\n",
    "    else:\n",
    "        spike_array = spike_tensor\n",
    "    \n",
    "    # Create a figure\n",
    "    fig, ax = plt.subplots(figsize=(10, 6))\n",
    "    \n",
    "    # Use snntorch.spikeplot to visualize the sample\n",
    "    splt.raster(torch.tensor(spike_array).float(), ax, s=0.5, c='black')\n",
    "    \n",
    "    ax.set_title(f\"Spike Raster Plot for Sample {index} (Label: {label})\")\n",
    "    ax.set_xlabel(\"Time Steps\")\n",
    "    ax.set_ylabel(\"Neuron Index\")\n",
    "    \n",
    "    plt.tight_layout()\n",
    "    plt.show()\n",
    "\n",
    "# Load your dataset\n",
    "train_path = \"/Users/solaimane/Downloads/shd_train.h5\"\n",
    "train_dataset = SHDDataset(train_path)\n",
    "\n",
    "# Visualize a sample\n",
    "visualize_sample(train_dataset, index=1)"
   ]
  },
  {
   "cell_type": "code",
   "execution_count": 4,
   "id": "723aefaa-f893-4563-823a-199dce695553",
   "metadata": {},
   "outputs": [],
   "source": [
    "class RLIF(nn.Module):\n",
    "    def __init__(self, input_size, hidden_size, output_size, beta=0.98, threshold=1.0, \n",
    "                 spike_grad=surrogate.fast_sigmoid(), dropout_rate=0.5):\n",
    "        super(RLIF, self).__init__()\n",
    "        \n",
    "        # Parameters\n",
    "        self.input_size = input_size\n",
    "        self.hidden_size = hidden_size\n",
    "        self.output_size = output_size\n",
    "        self.beta = beta\n",
    "        self.threshold = threshold\n",
    "        \n",
    "        # Layers\n",
    "        self.fc_in = nn.Linear(input_size, hidden_size)\n",
    "        self.recurrent = nn.Linear(hidden_size, hidden_size)\n",
    "        self.fc_out = nn.Linear(hidden_size, output_size)\n",
    "        \n",
    "        # Dropout layers\n",
    "        self.dropout_in = nn.Dropout(dropout_rate)\n",
    "        self.dropout_rec = nn.Dropout(dropout_rate)\n",
    "        \n",
    "        # LIF neuron\n",
    "        self.lif = snn.Leaky(beta=beta, threshold=threshold, spike_grad=spike_grad)\n",
    "        \n",
    "    def forward(self, x):\n",
    "        # Initialize hidden states and outputs\n",
    "        batch_size = x.size(0)\n",
    "        time_steps = x.size(1)\n",
    "        hidden = self.lif.init_leaky()\n",
    "        spk_rec = []\n",
    "        mem_rec = []\n",
    "        \n",
    "        for step in range(time_steps):\n",
    "            # Get current input\n",
    "            cur_input = x[:, step, :]\n",
    "            \n",
    "            # Hidden layer with dropout\n",
    "            z = self.dropout_in(self.fc_in(cur_input))\n",
    "            \n",
    "            # Add recurrent input if there was a previous spike\n",
    "            if len(spk_rec) > 0:\n",
    "                z += self.dropout_rec(self.recurrent(spk_rec[-1]))\n",
    "            \n",
    "            # LIF neuron operation\n",
    "            spk, mem = self.lif(z, hidden)\n",
    "            hidden = mem\n",
    "            \n",
    "            spk_rec.append(spk)\n",
    "            mem_rec.append(mem)\n",
    "        \n",
    "        # Stack recorded spikes and membrane potentials\n",
    "        spk_rec = torch.stack(spk_rec, dim=1)\n",
    "        mem_rec = torch.stack(mem_rec, dim=1)\n",
    "        \n",
    "        # Read out the final layer\n",
    "        outputs = self.fc_out(spk_rec)\n",
    "        \n",
    "        return outputs, spk_rec, mem_rec"
   ]
  },
  {
   "cell_type": "code",
   "execution_count": 5,
   "id": "0fa65f1b-f955-4b50-98fe-4805249d6ac9",
   "metadata": {},
   "outputs": [
    {
     "name": "stdout",
     "output_type": "stream",
     "text": [
      "RLIF(\n",
      "  (fc_in): Linear(in_features=700, out_features=873, bias=True)\n",
      "  (recurrent): Linear(in_features=873, out_features=873, bias=True)\n",
      "  (fc_out): Linear(in_features=873, out_features=20, bias=True)\n",
      "  (dropout_in): Dropout(p=0.5, inplace=False)\n",
      "  (dropout_rec): Dropout(p=0.5, inplace=False)\n",
      "  (lif): Leaky()\n",
      ")\n"
     ]
    },
    {
     "name": "stderr",
     "output_type": "stream",
     "text": [
      "/user/HS402/ya00617/.local/lib/python3.10/site-packages/transformers/utils/generic.py:441: UserWarning: torch.utils._pytree._register_pytree_node is deprecated. Please use torch.utils._pytree.register_pytree_node instead.\n",
      "  _torch_pytree._register_pytree_node(\n",
      "/user/HS402/ya00617/.local/lib/python3.10/site-packages/torch/optim/lr_scheduler.py:28: UserWarning: The verbose parameter is deprecated. Please use get_last_lr() to access the learning rate.\n",
      "  warnings.warn(\"The verbose parameter is deprecated. Please use get_last_lr() \"\n"
     ]
    }
   ],
   "source": [
    "# Hyperparameters\n",
    "input_size = 700\n",
    "hidden_size = 873\n",
    "output_size = 20\n",
    "batch_size = 32\n",
    "learning_rate = 0.001\n",
    "num_epochs = 25\n",
    "dropout_rate = 0.5\n",
    "\n",
    "# Load data\n",
    "train_path = '/user/HS402/ya00617/Downloads/shd_train.h5'\n",
    "test_path = '/user/HS402/ya00617/Downloads/shd_test.h5'\n",
    "train_loader, val_loader, test_loader = load_shd_data(train_path, test_path, batch_size=batch_size)\n",
    "\n",
    "# Initialize model, loss function, and optimizer\n",
    "#device = torch.device(\"cuda\" if torch.cuda.is_available() else \"cpu\")\n",
    "model = RLIF(input_size, hidden_size, output_size, dropout_rate=dropout_rate).to(device)\n",
    "criterion = nn.CrossEntropyLoss()\n",
    "optimizer = optim.Adam(model.parameters(), lr=learning_rate)\n",
    "scheduler = ReduceLROnPlateau(optimizer, mode='max', factor=0.7, patience=3, verbose=True)\n",
    "print(model)"
   ]
  },
  {
   "cell_type": "code",
   "execution_count": 6,
   "id": "eca95f28-39e1-4b30-93de-901c5951fcba",
   "metadata": {},
   "outputs": [],
   "source": [
    "# Training function\n",
    "def train(model, loader, optimizer, criterion, device):\n",
    "    model.train()\n",
    "    total_loss = 0\n",
    "    correct = 0\n",
    "    total = 0\n",
    "    \n",
    "    for spikes, lengths, labels in tqdm(loader, desc=\"Training\"):\n",
    "        spikes, labels = spikes.to(device), labels.to(device)\n",
    "        optimizer.zero_grad()\n",
    "        \n",
    "        outputs, _, _ = model(spikes)\n",
    "        loss = criterion(outputs.mean(dim=1), labels)  # Average over time steps\n",
    "        \n",
    "        loss.backward()\n",
    "        optimizer.step()\n",
    "        \n",
    "        total_loss += loss.item()\n",
    "        _, predicted = outputs.mean(dim=1).max(1)\n",
    "        total += labels.size(0)\n",
    "        correct += predicted.eq(labels).sum().item()\n",
    "    \n",
    "    return total_loss / len(loader), correct / total\n",
    "\n",
    "# Evaluation function\n",
    "def evaluate(model, loader, criterion, device, return_predictions=False):\n",
    "    model.eval()\n",
    "    total_loss = 0\n",
    "    correct = 0\n",
    "    total = 0\n",
    "    all_preds = []\n",
    "    all_labels = []\n",
    "    \n",
    "    with torch.no_grad():\n",
    "        for spikes, lengths, labels in tqdm(loader, desc=\"Evaluating\"):\n",
    "            spikes, labels = spikes.to(device), labels.to(device)\n",
    "            \n",
    "            outputs, _, _ = model(spikes)\n",
    "            loss = criterion(outputs.mean(dim=1), labels)\n",
    "            \n",
    "            total_loss += loss.item()\n",
    "            _, predicted = outputs.mean(dim=1).max(1)\n",
    "            total += labels.size(0)\n",
    "            correct += predicted.eq(labels).sum().item()\n",
    "            \n",
    "            if return_predictions:\n",
    "                all_preds.extend(predicted.cpu().numpy())\n",
    "                all_labels.extend(labels.cpu().numpy())\n",
    "    \n",
    "    if return_predictions:\n",
    "        return total_loss / len(loader), correct / total, all_preds, all_labels\n",
    "    else:\n",
    "        return total_loss / len(loader), correct / total\n"
   ]
  },
  {
   "cell_type": "code",
   "execution_count": 7,
   "id": "e4bf14e2-855d-4c9b-b80e-4e62ed75b2e7",
   "metadata": {},
   "outputs": [
    {
     "name": "stderr",
     "output_type": "stream",
     "text": [
      "Training: 100%|███████████████████████████████| 255/255 [00:08<00:00, 30.23it/s]\n",
      "Evaluating: 100%|███████████████████████████████| 15/15 [00:00<00:00, 63.49it/s]\n"
     ]
    },
    {
     "name": "stdout",
     "output_type": "stream",
     "text": [
      "Epoch 1/25\n",
      "Train Loss: 2.2131, Train Acc: 0.2569\n",
      "Val Loss: 1.7325, Val Acc: 0.3827\n",
      "Learning Rate: 0.001000\n",
      "Saved best model\n",
      "\n"
     ]
    },
    {
     "name": "stderr",
     "output_type": "stream",
     "text": [
      "Training: 100%|███████████████████████████████| 255/255 [00:08<00:00, 30.62it/s]\n",
      "Evaluating: 100%|███████████████████████████████| 15/15 [00:00<00:00, 64.94it/s]\n"
     ]
    },
    {
     "name": "stdout",
     "output_type": "stream",
     "text": [
      "Epoch 2/25\n",
      "Train Loss: 1.5412, Train Acc: 0.4616\n",
      "Val Loss: 1.3501, Val Acc: 0.5044\n",
      "Learning Rate: 0.001000\n",
      "Saved best model\n",
      "\n"
     ]
    },
    {
     "name": "stderr",
     "output_type": "stream",
     "text": [
      "Training: 100%|███████████████████████████████| 255/255 [00:08<00:00, 30.59it/s]\n",
      "Evaluating: 100%|███████████████████████████████| 15/15 [00:00<00:00, 63.96it/s]\n"
     ]
    },
    {
     "name": "stdout",
     "output_type": "stream",
     "text": [
      "Epoch 3/25\n",
      "Train Loss: 1.3178, Train Acc: 0.5397\n",
      "Val Loss: 1.2007, Val Acc: 0.5642\n",
      "Learning Rate: 0.001000\n",
      "Saved best model\n",
      "\n"
     ]
    },
    {
     "name": "stderr",
     "output_type": "stream",
     "text": [
      "Training: 100%|███████████████████████████████| 255/255 [00:08<00:00, 30.37it/s]\n",
      "Evaluating: 100%|███████████████████████████████| 15/15 [00:00<00:00, 63.15it/s]\n"
     ]
    },
    {
     "name": "stdout",
     "output_type": "stream",
     "text": [
      "Epoch 4/25\n",
      "Train Loss: 1.2380, Train Acc: 0.5658\n",
      "Val Loss: 1.0911, Val Acc: 0.5951\n",
      "Learning Rate: 0.001000\n",
      "Saved best model\n",
      "\n"
     ]
    },
    {
     "name": "stderr",
     "output_type": "stream",
     "text": [
      "Training: 100%|███████████████████████████████| 255/255 [00:08<00:00, 30.57it/s]\n",
      "Evaluating: 100%|███████████████████████████████| 15/15 [00:00<00:00, 64.51it/s]\n"
     ]
    },
    {
     "name": "stdout",
     "output_type": "stream",
     "text": [
      "Epoch 5/25\n",
      "Train Loss: 1.1489, Train Acc: 0.6002\n",
      "Val Loss: 0.9983, Val Acc: 0.6018\n",
      "Learning Rate: 0.001000\n",
      "Saved best model\n",
      "\n"
     ]
    },
    {
     "name": "stderr",
     "output_type": "stream",
     "text": [
      "Training: 100%|███████████████████████████████| 255/255 [00:08<00:00, 30.52it/s]\n",
      "Evaluating: 100%|███████████████████████████████| 15/15 [00:00<00:00, 63.61it/s]\n"
     ]
    },
    {
     "name": "stdout",
     "output_type": "stream",
     "text": [
      "Epoch 6/25\n",
      "Train Loss: 1.1296, Train Acc: 0.5982\n",
      "Val Loss: 0.9195, Val Acc: 0.7058\n",
      "Learning Rate: 0.001000\n",
      "Saved best model\n",
      "\n"
     ]
    },
    {
     "name": "stderr",
     "output_type": "stream",
     "text": [
      "Training: 100%|███████████████████████████████| 255/255 [00:08<00:00, 30.52it/s]\n",
      "Evaluating: 100%|███████████████████████████████| 15/15 [00:00<00:00, 64.01it/s]\n"
     ]
    },
    {
     "name": "stdout",
     "output_type": "stream",
     "text": [
      "Epoch 7/25\n",
      "Train Loss: 1.0665, Train Acc: 0.6319\n",
      "Val Loss: 1.0002, Val Acc: 0.6726\n",
      "Learning Rate: 0.001000\n",
      "\n"
     ]
    },
    {
     "name": "stderr",
     "output_type": "stream",
     "text": [
      "Training: 100%|███████████████████████████████| 255/255 [00:08<00:00, 30.18it/s]\n",
      "Evaluating: 100%|███████████████████████████████| 15/15 [00:00<00:00, 63.78it/s]\n"
     ]
    },
    {
     "name": "stdout",
     "output_type": "stream",
     "text": [
      "Epoch 8/25\n",
      "Train Loss: 1.0635, Train Acc: 0.6290\n",
      "Val Loss: 1.0509, Val Acc: 0.6504\n",
      "Learning Rate: 0.001000\n",
      "\n"
     ]
    },
    {
     "name": "stderr",
     "output_type": "stream",
     "text": [
      "Training: 100%|███████████████████████████████| 255/255 [00:08<00:00, 30.52it/s]\n",
      "Evaluating: 100%|███████████████████████████████| 15/15 [00:00<00:00, 64.30it/s]\n"
     ]
    },
    {
     "name": "stdout",
     "output_type": "stream",
     "text": [
      "Epoch 9/25\n",
      "Train Loss: 1.0342, Train Acc: 0.6392\n",
      "Val Loss: 0.9922, Val Acc: 0.6438\n",
      "Learning Rate: 0.001000\n",
      "\n"
     ]
    },
    {
     "name": "stderr",
     "output_type": "stream",
     "text": [
      "Training: 100%|███████████████████████████████| 255/255 [00:08<00:00, 30.41it/s]\n",
      "Evaluating: 100%|███████████████████████████████| 15/15 [00:00<00:00, 63.95it/s]\n"
     ]
    },
    {
     "name": "stdout",
     "output_type": "stream",
     "text": [
      "Epoch 10/25\n",
      "Train Loss: 1.0071, Train Acc: 0.6540\n",
      "Val Loss: 0.9653, Val Acc: 0.7035\n",
      "Learning Rate: 0.001000\n",
      "\n"
     ]
    },
    {
     "name": "stderr",
     "output_type": "stream",
     "text": [
      "Training: 100%|███████████████████████████████| 255/255 [00:08<00:00, 30.50it/s]\n",
      "Evaluating: 100%|███████████████████████████████| 15/15 [00:00<00:00, 63.71it/s]\n"
     ]
    },
    {
     "name": "stdout",
     "output_type": "stream",
     "text": [
      "Epoch 11/25\n",
      "Train Loss: 0.9247, Train Acc: 0.6759\n",
      "Val Loss: 0.8385, Val Acc: 0.7124\n",
      "Learning Rate: 0.000700\n",
      "Saved best model\n",
      "\n"
     ]
    },
    {
     "name": "stderr",
     "output_type": "stream",
     "text": [
      "Training: 100%|███████████████████████████████| 255/255 [00:08<00:00, 30.40it/s]\n",
      "Evaluating: 100%|███████████████████████████████| 15/15 [00:00<00:00, 64.25it/s]\n"
     ]
    },
    {
     "name": "stdout",
     "output_type": "stream",
     "text": [
      "Epoch 12/25\n",
      "Train Loss: 0.8807, Train Acc: 0.6957\n",
      "Val Loss: 0.8137, Val Acc: 0.7345\n",
      "Learning Rate: 0.000700\n",
      "Saved best model\n",
      "\n"
     ]
    },
    {
     "name": "stderr",
     "output_type": "stream",
     "text": [
      "Training: 100%|███████████████████████████████| 255/255 [00:08<00:00, 30.45it/s]\n",
      "Evaluating: 100%|███████████████████████████████| 15/15 [00:00<00:00, 64.13it/s]\n"
     ]
    },
    {
     "name": "stdout",
     "output_type": "stream",
     "text": [
      "Epoch 13/25\n",
      "Train Loss: 0.8357, Train Acc: 0.7114\n",
      "Val Loss: 0.8952, Val Acc: 0.7212\n",
      "Learning Rate: 0.000700\n",
      "\n"
     ]
    },
    {
     "name": "stderr",
     "output_type": "stream",
     "text": [
      "Training: 100%|███████████████████████████████| 255/255 [00:08<00:00, 30.49it/s]\n",
      "Evaluating: 100%|███████████████████████████████| 15/15 [00:00<00:00, 63.57it/s]\n"
     ]
    },
    {
     "name": "stdout",
     "output_type": "stream",
     "text": [
      "Epoch 14/25\n",
      "Train Loss: 0.8060, Train Acc: 0.7195\n",
      "Val Loss: 0.8374, Val Acc: 0.7367\n",
      "Learning Rate: 0.000700\n",
      "Saved best model\n",
      "\n"
     ]
    },
    {
     "name": "stderr",
     "output_type": "stream",
     "text": [
      "Training: 100%|███████████████████████████████| 255/255 [00:08<00:00, 30.15it/s]\n",
      "Evaluating: 100%|███████████████████████████████| 15/15 [00:00<00:00, 64.07it/s]\n"
     ]
    },
    {
     "name": "stdout",
     "output_type": "stream",
     "text": [
      "Epoch 15/25\n",
      "Train Loss: 0.7971, Train Acc: 0.7260\n",
      "Val Loss: 0.9854, Val Acc: 0.6836\n",
      "Learning Rate: 0.000700\n",
      "\n"
     ]
    },
    {
     "name": "stderr",
     "output_type": "stream",
     "text": [
      "Training: 100%|███████████████████████████████| 255/255 [00:08<00:00, 30.46it/s]\n",
      "Evaluating: 100%|███████████████████████████████| 15/15 [00:00<00:00, 63.90it/s]\n"
     ]
    },
    {
     "name": "stdout",
     "output_type": "stream",
     "text": [
      "Epoch 16/25\n",
      "Train Loss: 0.8073, Train Acc: 0.7223\n",
      "Val Loss: 0.8283, Val Acc: 0.7389\n",
      "Learning Rate: 0.000700\n",
      "Saved best model\n",
      "\n"
     ]
    },
    {
     "name": "stderr",
     "output_type": "stream",
     "text": [
      "Training: 100%|███████████████████████████████| 255/255 [00:08<00:00, 30.52it/s]\n",
      "Evaluating: 100%|███████████████████████████████| 15/15 [00:00<00:00, 64.02it/s]\n"
     ]
    },
    {
     "name": "stdout",
     "output_type": "stream",
     "text": [
      "Epoch 17/25\n",
      "Train Loss: 0.7782, Train Acc: 0.7348\n",
      "Val Loss: 0.8979, Val Acc: 0.7212\n",
      "Learning Rate: 0.000700\n",
      "\n"
     ]
    },
    {
     "name": "stderr",
     "output_type": "stream",
     "text": [
      "Training: 100%|███████████████████████████████| 255/255 [00:08<00:00, 30.49it/s]\n",
      "Evaluating: 100%|███████████████████████████████| 15/15 [00:00<00:00, 64.36it/s]\n"
     ]
    },
    {
     "name": "stdout",
     "output_type": "stream",
     "text": [
      "Epoch 18/25\n",
      "Train Loss: 0.7649, Train Acc: 0.7379\n",
      "Val Loss: 0.8680, Val Acc: 0.7168\n",
      "Learning Rate: 0.000700\n",
      "\n"
     ]
    },
    {
     "name": "stderr",
     "output_type": "stream",
     "text": [
      "Training: 100%|███████████████████████████████| 255/255 [00:08<00:00, 30.32it/s]\n",
      "Evaluating: 100%|███████████████████████████████| 15/15 [00:00<00:00, 63.39it/s]\n"
     ]
    },
    {
     "name": "stdout",
     "output_type": "stream",
     "text": [
      "Epoch 19/25\n",
      "Train Loss: 0.7647, Train Acc: 0.7355\n",
      "Val Loss: 0.8805, Val Acc: 0.6969\n",
      "Learning Rate: 0.000700\n",
      "\n"
     ]
    },
    {
     "name": "stderr",
     "output_type": "stream",
     "text": [
      "Training: 100%|███████████████████████████████| 255/255 [00:08<00:00, 30.47it/s]\n",
      "Evaluating: 100%|███████████████████████████████| 15/15 [00:00<00:00, 62.91it/s]\n"
     ]
    },
    {
     "name": "stdout",
     "output_type": "stream",
     "text": [
      "Epoch 20/25\n",
      "Train Loss: 0.7666, Train Acc: 0.7392\n",
      "Val Loss: 0.8624, Val Acc: 0.7124\n",
      "Learning Rate: 0.000700\n",
      "\n"
     ]
    },
    {
     "name": "stderr",
     "output_type": "stream",
     "text": [
      "Training: 100%|███████████████████████████████| 255/255 [00:08<00:00, 30.33it/s]\n",
      "Evaluating: 100%|███████████████████████████████| 15/15 [00:00<00:00, 62.85it/s]\n"
     ]
    },
    {
     "name": "stdout",
     "output_type": "stream",
     "text": [
      "Epoch 21/25\n",
      "Train Loss: 0.6914, Train Acc: 0.7690\n",
      "Val Loss: 0.8530, Val Acc: 0.7212\n",
      "Learning Rate: 0.000490\n",
      "\n"
     ]
    },
    {
     "name": "stderr",
     "output_type": "stream",
     "text": [
      "Training: 100%|███████████████████████████████| 255/255 [00:08<00:00, 30.49it/s]\n",
      "Evaluating: 100%|███████████████████████████████| 15/15 [00:00<00:00, 65.08it/s]\n"
     ]
    },
    {
     "name": "stdout",
     "output_type": "stream",
     "text": [
      "Epoch 22/25\n",
      "Train Loss: 0.6491, Train Acc: 0.7836\n",
      "Val Loss: 0.7740, Val Acc: 0.7412\n",
      "Learning Rate: 0.000490\n",
      "Saved best model\n",
      "\n"
     ]
    },
    {
     "name": "stderr",
     "output_type": "stream",
     "text": [
      "Training: 100%|███████████████████████████████| 255/255 [00:08<00:00, 30.42it/s]\n",
      "Evaluating: 100%|███████████████████████████████| 15/15 [00:00<00:00, 64.27it/s]\n"
     ]
    },
    {
     "name": "stdout",
     "output_type": "stream",
     "text": [
      "Epoch 23/25\n",
      "Train Loss: 0.6483, Train Acc: 0.7794\n",
      "Val Loss: 0.7518, Val Acc: 0.7566\n",
      "Learning Rate: 0.000490\n",
      "Saved best model\n",
      "\n"
     ]
    },
    {
     "name": "stderr",
     "output_type": "stream",
     "text": [
      "Training: 100%|███████████████████████████████| 255/255 [00:08<00:00, 30.42it/s]\n",
      "Evaluating: 100%|███████████████████████████████| 15/15 [00:00<00:00, 63.65it/s]\n"
     ]
    },
    {
     "name": "stdout",
     "output_type": "stream",
     "text": [
      "Epoch 24/25\n",
      "Train Loss: 0.6327, Train Acc: 0.7831\n",
      "Val Loss: 0.7104, Val Acc: 0.7765\n",
      "Learning Rate: 0.000490\n",
      "Saved best model\n",
      "\n"
     ]
    },
    {
     "name": "stderr",
     "output_type": "stream",
     "text": [
      "Training: 100%|███████████████████████████████| 255/255 [00:08<00:00, 30.47it/s]\n",
      "Evaluating: 100%|███████████████████████████████| 15/15 [00:00<00:00, 63.42it/s]"
     ]
    },
    {
     "name": "stdout",
     "output_type": "stream",
     "text": [
      "Epoch 25/25\n",
      "Train Loss: 0.6289, Train Acc: 0.7838\n",
      "Val Loss: 0.8217, Val Acc: 0.7389\n",
      "Learning Rate: 0.000490\n",
      "\n"
     ]
    },
    {
     "name": "stderr",
     "output_type": "stream",
     "text": [
      "\n"
     ]
    }
   ],
   "source": [
    "# Lists to store losses, accuracies, and learning rates\n",
    "train_losses = []\n",
    "train_accs = []\n",
    "val_losses = []\n",
    "val_accs = []\n",
    "learning_rates = []\n",
    "\n",
    "# Training loop\n",
    "best_val_acc = 0\n",
    "for epoch in range(num_epochs):\n",
    "    train_loss, train_acc = train(model, train_loader, optimizer, criterion, device)\n",
    "    val_loss, val_acc = evaluate(model, val_loader, criterion, device)\n",
    "    \n",
    "    # Record losses, accuracies, and current learning rate\n",
    "    train_losses.append(train_loss)\n",
    "    train_accs.append(train_acc)\n",
    "    val_losses.append(val_loss)\n",
    "    val_accs.append(val_acc)\n",
    "    learning_rates.append(optimizer.param_groups[0]['lr'])\n",
    "    \n",
    "    print(f\"Epoch {epoch+1}/{num_epochs}\")\n",
    "    print(f\"Train Loss: {train_loss:.4f}, Train Acc: {train_acc:.4f}\")\n",
    "    print(f\"Val Loss: {val_loss:.4f}, Val Acc: {val_acc:.4f}\")\n",
    "    print(f\"Learning Rate: {optimizer.param_groups[0]['lr']:.6f}\")\n",
    "    \n",
    "    # Step the scheduler\n",
    "    scheduler.step(val_acc)\n",
    "    \n",
    "    if val_acc > best_val_acc:\n",
    "        best_val_acc = val_acc\n",
    "        torch.save(model.state_dict(), 'best_model.pth')\n",
    "        print(\"Saved best model\")\n",
    "    \n",
    "    print()"
   ]
  },
  {
   "cell_type": "code",
   "execution_count": 8,
   "id": "44833039-335e-41e1-bea1-96f83f51a558",
   "metadata": {},
   "outputs": [
    {
     "name": "stderr",
     "output_type": "stream",
     "text": [
      "Evaluating: 100%|███████████████████████████████| 57/57 [00:00<00:00, 63.62it/s]\n"
     ]
    },
    {
     "name": "stdout",
     "output_type": "stream",
     "text": [
      "Test Loss: 0.7591, Test Acc: 0.7566\n",
      "\n",
      "Classification Report:\n",
      "              precision    recall  f1-score   support\n",
      "\n",
      "           0       0.62      0.31      0.42        89\n",
      "           1       0.61      0.45      0.52        89\n",
      "           2       0.93      0.50      0.65        86\n",
      "           3       0.77      0.53      0.63        89\n",
      "           4       0.94      1.00      0.97        87\n",
      "           5       0.91      0.77      0.83        90\n",
      "           6       0.93      0.97      0.95        90\n",
      "           7       0.65      0.62      0.63        86\n",
      "           8       0.92      0.99      0.95        93\n",
      "           9       0.72      0.88      0.79        83\n",
      "          10       0.66      0.85      0.74        96\n",
      "          11       0.95      0.98      0.97       102\n",
      "          12       0.91      0.72      0.80        94\n",
      "          13       0.53      0.88      0.66        89\n",
      "          14       0.62      0.51      0.56        88\n",
      "          15       0.53      0.99      0.69        85\n",
      "          16       0.95      0.93      0.94        96\n",
      "          17       0.72      0.79      0.76        96\n",
      "          18       0.88      0.94      0.91        98\n",
      "          19       0.64      0.44      0.52        86\n",
      "\n",
      "    accuracy                           0.76      1812\n",
      "   macro avg       0.77      0.75      0.74      1812\n",
      "weighted avg       0.77      0.76      0.75      1812\n",
      "\n"
     ]
    },
    {
     "data": {
      "image/png": "[encoded data removed]",
      "text/plain": [
       "<Figure size 720x576 with 2 Axes>"
      ]
     },
     "metadata": {
      "needs_background": "light"
     },
     "output_type": "display_data"
    },
    {
     "data": {
      "image/png": "[encoded data removed]",
      "text/plain": [
       "<Figure size 1080x360 with 3 Axes>"
      ]
     },
     "metadata": {
      "needs_background": "light"
     },
     "output_type": "display_data"
    },
    {
     "name": "stdout",
     "output_type": "stream",
     "text": [
      "\n",
      "Best validation accuracy: 0.7765 at epoch 24\n"
     ]
    }
   ],
   "source": [
    "# Evaluate on test set and get predictions\n",
    "model.load_state_dict(torch.load('best_model.pth'))\n",
    "test_loss, test_acc, test_preds, test_labels = evaluate(model, test_loader, criterion, device, return_predictions=True)\n",
    "print(f\"Test Loss: {test_loss:.4f}, Test Acc: {test_acc:.4f}\")\n",
    "\n",
    "# Classification Report\n",
    "print(\"\\nClassification Report:\")\n",
    "print(classification_report(test_labels, test_preds))\n",
    "\n",
    "# Confusion Matrix\n",
    "cm = confusion_matrix(test_labels, test_preds)\n",
    "plt.figure(figsize=(10, 8))\n",
    "sns.heatmap(cm, annot=True, fmt='d', cmap='Blues')\n",
    "plt.title('Confusion Matrix')\n",
    "plt.xlabel('Predicted')\n",
    "plt.ylabel('True')\n",
    "plt.show()\n",
    "\n",
    "# Plot training and validation curves\n",
    "plt.figure(figsize=(15, 5))\n",
    "\n",
    "# Plot losses\n",
    "plt.subplot(1, 3, 1)\n",
    "plt.plot(train_losses, label='Train Loss')\n",
    "plt.plot(val_losses, label='Validation Loss')\n",
    "plt.xlabel('Epoch')\n",
    "plt.ylabel('Loss')\n",
    "plt.title('Training and Validation Loss')\n",
    "plt.legend()\n",
    "\n",
    "# Plot accuracies\n",
    "plt.subplot(1, 3, 2)\n",
    "plt.plot(train_accs, label='Train Accuracy')\n",
    "plt.plot(val_accs, label='Validation Accuracy')\n",
    "plt.xlabel('Epoch')\n",
    "plt.ylabel('Accuracy')\n",
    "plt.title('Training and Validation Accuracy')\n",
    "plt.legend()\n",
    "\n",
    "# Plot learning rate\n",
    "plt.subplot(1, 3, 3)\n",
    "plt.plot(learning_rates)\n",
    "plt.xlabel('Epoch')\n",
    "plt.ylabel('Learning Rate')\n",
    "plt.title('Learning Rate over Epochs')\n",
    "plt.yscale('log')\n",
    "\n",
    "plt.tight_layout()\n",
    "plt.show()\n",
    "\n",
    "# Print best validation accuracy and corresponding epoch\n",
    "best_epoch = val_accs.index(max(val_accs)) + 1\n",
    "print(f\"\\nBest validation accuracy: {max(val_accs):.4f} at epoch {best_epoch}\")"
   ]
  },
  {
   "cell_type": "code",
   "execution_count": null,
   "id": "99723a34-2f58-458d-a9f1-98c683ef6c2b",
   "metadata": {},
   "outputs": [],
   "source": []
  }
 ],
 "metadata": {
  "kernelspec": {
   "display_name": "Python 3 (ipykernel)",
   "language": "python",
   "name": "python3"
  },
  "language_info": {
   "codemirror_mode": {
    "name": "ipython",
    "version": 3
   },
   "file_extension": ".py",
   "mimetype": "text/x-python",
   "name": "python",
   "nbconvert_exporter": "python",
   "pygments_lexer": "ipython3",
   "version": "3.12.4"
  }
 },
 "nbformat": 4,
 "nbformat_minor": 5
}
